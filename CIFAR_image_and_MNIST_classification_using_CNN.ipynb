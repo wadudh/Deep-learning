{
  "nbformat": 4,
  "nbformat_minor": 0,
  "metadata": {
    "colab": {
      "provenance": [],
      "authorship_tag": "ABX9TyP8ki+fkGcGUO2+XyIORX5G",
      "include_colab_link": true
    },
    "kernelspec": {
      "name": "python3",
      "display_name": "Python 3"
    },
    "language_info": {
      "name": "python"
    }
  },
  "cells": [
    {
      "cell_type": "markdown",
      "metadata": {
        "id": "view-in-github",
        "colab_type": "text"
      },
      "source": [
        "<a href=\"https://colab.research.google.com/github/wadudh/Deep-learning/blob/main/CIFAR_image_and_MNIST_classification_using_CNN.ipynb\" target=\"_parent\"><img src=\"https://colab.research.google.com/assets/colab-badge.svg\" alt=\"Open In Colab\"/></a>"
      ]
    },
    {
      "cell_type": "code",
      "execution_count": 43,
      "metadata": {
        "id": "_A9HbCvJ2gLh"
      },
      "outputs": [],
      "source": [
        "import tensorflow as tf\n",
        "import numpy as np\n",
        "from tensorflow.keras import datasets, models,layers\n",
        "import matplotlib.pyplot as plt"
      ]
    },
    {
      "cell_type": "code",
      "source": [
        "(x_train,y_train),(x_test,y_test)=datasets.cifar10.load_data()\n",
        "x_train.shape"
      ],
      "metadata": {
        "colab": {
          "base_uri": "https://localhost:8080/"
        },
        "id": "qCeIYpX2DxM9",
        "outputId": "24fbd7c8-0a4f-4ad3-b8f1-207ca775c6cf"
      },
      "execution_count": 6,
      "outputs": [
        {
          "output_type": "execute_result",
          "data": {
            "text/plain": [
              "(50000, 32, 32, 3)"
            ]
          },
          "metadata": {},
          "execution_count": 6
        }
      ]
    },
    {
      "cell_type": "code",
      "source": [
        "x_test.shape"
      ],
      "metadata": {
        "colab": {
          "base_uri": "https://localhost:8080/"
        },
        "id": "igTFFuTIERU6",
        "outputId": "8e1e8cfb-be26-4b5d-c9de-548e0f279523"
      },
      "execution_count": 7,
      "outputs": [
        {
          "output_type": "execute_result",
          "data": {
            "text/plain": [
              "(10000, 32, 32, 3)"
            ]
          },
          "metadata": {},
          "execution_count": 7
        }
      ]
    },
    {
      "cell_type": "code",
      "source": [
        "y_train.shape"
      ],
      "metadata": {
        "colab": {
          "base_uri": "https://localhost:8080/"
        },
        "id": "1_-xad-JERXV",
        "outputId": "ab5b31fa-5845-4019-8930-eb7b5e4454b0"
      },
      "execution_count": 9,
      "outputs": [
        {
          "output_type": "execute_result",
          "data": {
            "text/plain": [
              "(50000, 1)"
            ]
          },
          "metadata": {},
          "execution_count": 9
        }
      ]
    },
    {
      "cell_type": "code",
      "source": [
        "y_train[:5]"
      ],
      "metadata": {
        "colab": {
          "base_uri": "https://localhost:8080/"
        },
        "id": "cJ8dYKo8ERaP",
        "outputId": "659d5ef7-daf4-476e-e389-259e4957245e"
      },
      "execution_count": 10,
      "outputs": [
        {
          "output_type": "execute_result",
          "data": {
            "text/plain": [
              "array([[6],\n",
              "       [9],\n",
              "       [9],\n",
              "       [4],\n",
              "       [1]], dtype=uint8)"
            ]
          },
          "metadata": {},
          "execution_count": 10
        }
      ]
    },
    {
      "cell_type": "code",
      "source": [],
      "metadata": {
        "id": "ren_Jhy3ERc1"
      },
      "execution_count": 10,
      "outputs": []
    },
    {
      "cell_type": "markdown",
      "source": [
        "Normalising The training data"
      ],
      "metadata": {
        "id": "sU3Eqzi5EihX"
      }
    },
    {
      "cell_type": "code",
      "source": [
        "x_train=x_train/255\n",
        "x_test= x_test/255"
      ],
      "metadata": {
        "id": "8jBvekxsEd2k"
      },
      "execution_count": 11,
      "outputs": []
    },
    {
      "cell_type": "markdown",
      "source": [
        "CNN"
      ],
      "metadata": {
        "id": "8cniu88VE427"
      }
    },
    {
      "cell_type": "code",
      "source": [
        "cnn=models.Sequential([\n",
        "    layers.Conv2D(filters=32,kernel_size=(3,3),activation='relu', input_shape=(32,32,3)),\n",
        "    layers.MaxPooling2D((2,2)),\n",
        "\n",
        "    layers.Conv2D(filters=62,kernel_size=(3,3),activation='relu'),\n",
        "    layers.MaxPooling2D((2,2)),\n",
        "\n",
        "    layers.Flatten(),\n",
        "    layers.Dense(64,activation='relu'),\n",
        "    layers.Dense(10,activation='softmax')\n",
        "    \n",
        "])\n",
        "\n",
        "cnn.compile(\n",
        "    optimizer = 'adam',\n",
        "    loss = 'sparse_categorical_crossentropy',\n",
        "    metrics=['accuracy']\n",
        ")"
      ],
      "metadata": {
        "id": "uBvdhNkiEd47"
      },
      "execution_count": 19,
      "outputs": []
    },
    {
      "cell_type": "code",
      "source": [
        "cnn.fit(x_train,y_train,epochs=5)"
      ],
      "metadata": {
        "colab": {
          "base_uri": "https://localhost:8080/"
        },
        "id": "bMoNfsduEd7z",
        "outputId": "194b023d-65ef-4847-cc35-37714381464e"
      },
      "execution_count": 20,
      "outputs": [
        {
          "output_type": "stream",
          "name": "stdout",
          "text": [
            "Epoch 1/5\n",
            "1563/1563 [==============================] - 67s 42ms/step - loss: 1.4743 - accuracy: 0.4685\n",
            "Epoch 2/5\n",
            "1563/1563 [==============================] - 67s 43ms/step - loss: 1.1311 - accuracy: 0.6011\n",
            "Epoch 3/5\n",
            "1563/1563 [==============================] - 65s 41ms/step - loss: 0.9928 - accuracy: 0.6540\n",
            "Epoch 4/5\n",
            "1563/1563 [==============================] - 64s 41ms/step - loss: 0.9069 - accuracy: 0.6851\n",
            "Epoch 5/5\n",
            "1563/1563 [==============================] - 66s 42ms/step - loss: 0.8414 - accuracy: 0.7069\n"
          ]
        },
        {
          "output_type": "execute_result",
          "data": {
            "text/plain": [
              "<keras.callbacks.History at 0x7f5f2f46fcd0>"
            ]
          },
          "metadata": {},
          "execution_count": 20
        }
      ]
    },
    {
      "cell_type": "code",
      "source": [],
      "metadata": {
        "id": "sG5nTL9RHTJ5"
      },
      "execution_count": null,
      "outputs": []
    },
    {
      "cell_type": "code",
      "source": [
        "cnn.evaluate(x_test,y_test)"
      ],
      "metadata": {
        "colab": {
          "base_uri": "https://localhost:8080/"
        },
        "id": "y-jXDq9jHTMX",
        "outputId": "2bc60549-1ced-4594-ddee-70972ef967e0"
      },
      "execution_count": 21,
      "outputs": [
        {
          "output_type": "stream",
          "name": "stdout",
          "text": [
            "313/313 [==============================] - 4s 14ms/step - loss: 0.9567 - accuracy: 0.6703\n"
          ]
        },
        {
          "output_type": "execute_result",
          "data": {
            "text/plain": [
              "[0.9567072987556458, 0.6703000068664551]"
            ]
          },
          "metadata": {},
          "execution_count": 21
        }
      ]
    },
    {
      "cell_type": "code",
      "source": [
        "y_pred = cnn.predict(x_test)\n",
        "x_test[:5]"
      ],
      "metadata": {
        "colab": {
          "base_uri": "https://localhost:8080/"
        },
        "id": "TahMFBENEd-r",
        "outputId": "172f0e4c-05d5-4240-ee29-7f0f61302e5c"
      },
      "execution_count": 23,
      "outputs": [
        {
          "output_type": "stream",
          "name": "stdout",
          "text": [
            "313/313 [==============================] - 4s 13ms/step\n"
          ]
        },
        {
          "output_type": "execute_result",
          "data": {
            "text/plain": [
              "array([[[[0.61960784, 0.43921569, 0.19215686],\n",
              "         [0.62352941, 0.43529412, 0.18431373],\n",
              "         [0.64705882, 0.45490196, 0.2       ],\n",
              "         ...,\n",
              "         [0.5372549 , 0.37254902, 0.14117647],\n",
              "         [0.49411765, 0.35686275, 0.14117647],\n",
              "         [0.45490196, 0.33333333, 0.12941176]],\n",
              "\n",
              "        [[0.59607843, 0.43921569, 0.2       ],\n",
              "         [0.59215686, 0.43137255, 0.15686275],\n",
              "         [0.62352941, 0.44705882, 0.17647059],\n",
              "         ...,\n",
              "         [0.53333333, 0.37254902, 0.12156863],\n",
              "         [0.49019608, 0.35686275, 0.1254902 ],\n",
              "         [0.46666667, 0.34509804, 0.13333333]],\n",
              "\n",
              "        [[0.59215686, 0.43137255, 0.18431373],\n",
              "         [0.59215686, 0.42745098, 0.12941176],\n",
              "         [0.61960784, 0.43529412, 0.14117647],\n",
              "         ...,\n",
              "         [0.54509804, 0.38431373, 0.13333333],\n",
              "         [0.50980392, 0.37254902, 0.13333333],\n",
              "         [0.47058824, 0.34901961, 0.12941176]],\n",
              "\n",
              "        ...,\n",
              "\n",
              "        [[0.26666667, 0.48627451, 0.69411765],\n",
              "         [0.16470588, 0.39215686, 0.58039216],\n",
              "         [0.12156863, 0.34509804, 0.5372549 ],\n",
              "         ...,\n",
              "         [0.14901961, 0.38039216, 0.57254902],\n",
              "         [0.05098039, 0.25098039, 0.42352941],\n",
              "         [0.15686275, 0.33333333, 0.49803922]],\n",
              "\n",
              "        [[0.23921569, 0.45490196, 0.65882353],\n",
              "         [0.19215686, 0.4       , 0.58039216],\n",
              "         [0.1372549 , 0.33333333, 0.51764706],\n",
              "         ...,\n",
              "         [0.10196078, 0.32156863, 0.50980392],\n",
              "         [0.11372549, 0.32156863, 0.49411765],\n",
              "         [0.07843137, 0.25098039, 0.41960784]],\n",
              "\n",
              "        [[0.21176471, 0.41960784, 0.62745098],\n",
              "         [0.21960784, 0.41176471, 0.58431373],\n",
              "         [0.17647059, 0.34901961, 0.51764706],\n",
              "         ...,\n",
              "         [0.09411765, 0.30196078, 0.48627451],\n",
              "         [0.13333333, 0.32941176, 0.50588235],\n",
              "         [0.08235294, 0.2627451 , 0.43137255]]],\n",
              "\n",
              "\n",
              "       [[[0.92156863, 0.92156863, 0.92156863],\n",
              "         [0.90588235, 0.90588235, 0.90588235],\n",
              "         [0.90980392, 0.90980392, 0.90980392],\n",
              "         ...,\n",
              "         [0.91372549, 0.91372549, 0.91372549],\n",
              "         [0.91372549, 0.91372549, 0.91372549],\n",
              "         [0.90980392, 0.90980392, 0.90980392]],\n",
              "\n",
              "        [[0.93333333, 0.93333333, 0.93333333],\n",
              "         [0.92156863, 0.92156863, 0.92156863],\n",
              "         [0.92156863, 0.92156863, 0.92156863],\n",
              "         ...,\n",
              "         [0.9254902 , 0.9254902 , 0.9254902 ],\n",
              "         [0.9254902 , 0.9254902 , 0.9254902 ],\n",
              "         [0.92156863, 0.92156863, 0.92156863]],\n",
              "\n",
              "        [[0.92941176, 0.92941176, 0.92941176],\n",
              "         [0.91764706, 0.91764706, 0.91764706],\n",
              "         [0.91764706, 0.91764706, 0.91764706],\n",
              "         ...,\n",
              "         [0.92156863, 0.92156863, 0.92156863],\n",
              "         [0.92156863, 0.92156863, 0.92156863],\n",
              "         [0.91764706, 0.91764706, 0.91764706]],\n",
              "\n",
              "        ...,\n",
              "\n",
              "        [[0.34117647, 0.38823529, 0.34901961],\n",
              "         [0.16862745, 0.2       , 0.14509804],\n",
              "         [0.0745098 , 0.09019608, 0.04313725],\n",
              "         ...,\n",
              "         [0.6627451 , 0.72156863, 0.70196078],\n",
              "         [0.71372549, 0.77254902, 0.75686275],\n",
              "         [0.7372549 , 0.79215686, 0.78823529]],\n",
              "\n",
              "        [[0.32156863, 0.37647059, 0.32156863],\n",
              "         [0.18039216, 0.22352941, 0.14117647],\n",
              "         [0.14117647, 0.17254902, 0.08627451],\n",
              "         ...,\n",
              "         [0.68235294, 0.74117647, 0.71764706],\n",
              "         [0.7254902 , 0.78431373, 0.76862745],\n",
              "         [0.73333333, 0.79215686, 0.78431373]],\n",
              "\n",
              "        [[0.33333333, 0.39607843, 0.3254902 ],\n",
              "         [0.24313725, 0.29411765, 0.18823529],\n",
              "         [0.22745098, 0.2627451 , 0.14901961],\n",
              "         ...,\n",
              "         [0.65882353, 0.71764706, 0.69803922],\n",
              "         [0.70588235, 0.76470588, 0.74901961],\n",
              "         [0.72941176, 0.78431373, 0.78039216]]],\n",
              "\n",
              "\n",
              "       [[[0.61960784, 0.74509804, 0.87058824],\n",
              "         [0.61960784, 0.73333333, 0.85490196],\n",
              "         [0.54509804, 0.65098039, 0.76078431],\n",
              "         ...,\n",
              "         [0.89411765, 0.90588235, 0.91764706],\n",
              "         [0.92941176, 0.9372549 , 0.95294118],\n",
              "         [0.93333333, 0.94509804, 0.96470588]],\n",
              "\n",
              "        [[0.66666667, 0.78431373, 0.89803922],\n",
              "         [0.6745098 , 0.78039216, 0.88627451],\n",
              "         [0.59215686, 0.69019608, 0.78823529],\n",
              "         ...,\n",
              "         [0.90980392, 0.90980392, 0.9254902 ],\n",
              "         [0.96470588, 0.96470588, 0.98039216],\n",
              "         [0.96470588, 0.96862745, 0.98431373]],\n",
              "\n",
              "        [[0.68235294, 0.78823529, 0.88235294],\n",
              "         [0.69019608, 0.78431373, 0.87058824],\n",
              "         [0.61568627, 0.70196078, 0.78039216],\n",
              "         ...,\n",
              "         [0.90196078, 0.89803922, 0.90980392],\n",
              "         [0.98039216, 0.97647059, 0.98431373],\n",
              "         [0.96078431, 0.95686275, 0.96862745]],\n",
              "\n",
              "        ...,\n",
              "\n",
              "        [[0.12156863, 0.15686275, 0.17647059],\n",
              "         [0.11764706, 0.15294118, 0.17254902],\n",
              "         [0.10196078, 0.1372549 , 0.15686275],\n",
              "         ...,\n",
              "         [0.14509804, 0.15686275, 0.18039216],\n",
              "         [0.03529412, 0.05098039, 0.05490196],\n",
              "         [0.01568627, 0.02745098, 0.01960784]],\n",
              "\n",
              "        [[0.09019608, 0.13333333, 0.15294118],\n",
              "         [0.10588235, 0.14901961, 0.16862745],\n",
              "         [0.09803922, 0.14117647, 0.16078431],\n",
              "         ...,\n",
              "         [0.0745098 , 0.07843137, 0.09411765],\n",
              "         [0.01568627, 0.02352941, 0.01176471],\n",
              "         [0.01960784, 0.02745098, 0.01176471]],\n",
              "\n",
              "        [[0.10980392, 0.16078431, 0.18431373],\n",
              "         [0.11764706, 0.16862745, 0.19607843],\n",
              "         [0.1254902 , 0.17647059, 0.20392157],\n",
              "         ...,\n",
              "         [0.01960784, 0.02352941, 0.03137255],\n",
              "         [0.01568627, 0.01960784, 0.01176471],\n",
              "         [0.02745098, 0.03137255, 0.02745098]]],\n",
              "\n",
              "\n",
              "       [[[0.60784314, 0.61176471, 0.58431373],\n",
              "         [0.65490196, 0.69019608, 0.73333333],\n",
              "         [0.69019608, 0.70196078, 0.75686275],\n",
              "         ...,\n",
              "         [0.78823529, 0.76862745, 0.81960784],\n",
              "         [0.79215686, 0.79215686, 0.83137255],\n",
              "         [0.75294118, 0.71764706, 0.67058824]],\n",
              "\n",
              "        [[0.6       , 0.60784314, 0.61568627],\n",
              "         [0.63921569, 0.70196078, 0.8       ],\n",
              "         [0.67058824, 0.72156863, 0.84313725],\n",
              "         ...,\n",
              "         [0.79215686, 0.81568627, 0.87058824],\n",
              "         [0.79607843, 0.84313725, 0.89019608],\n",
              "         [0.74117647, 0.74509804, 0.71764706]],\n",
              "\n",
              "        [[0.60784314, 0.60392157, 0.6       ],\n",
              "         [0.62745098, 0.69803922, 0.78823529],\n",
              "         [0.65882353, 0.7254902 , 0.83529412],\n",
              "         ...,\n",
              "         [0.80784314, 0.81568627, 0.84313725],\n",
              "         [0.8       , 0.84313725, 0.87843137],\n",
              "         [0.74117647, 0.74901961, 0.72156863]],\n",
              "\n",
              "        ...,\n",
              "\n",
              "        [[0.34901961, 0.30980392, 0.24313725],\n",
              "         [0.22352941, 0.20784314, 0.20392157],\n",
              "         [0.23921569, 0.23921569, 0.23137255],\n",
              "         ...,\n",
              "         [0.34901961, 0.46666667, 0.39607843],\n",
              "         [0.23137255, 0.30980392, 0.24313725],\n",
              "         [0.2627451 , 0.29019608, 0.19607843]],\n",
              "\n",
              "        [[0.34901961, 0.32156863, 0.24313725],\n",
              "         [0.23529412, 0.22745098, 0.20784314],\n",
              "         [0.24705882, 0.25882353, 0.22745098],\n",
              "         ...,\n",
              "         [0.22352941, 0.25882353, 0.22745098],\n",
              "         [0.23921569, 0.25098039, 0.21176471],\n",
              "         [0.29411765, 0.27058824, 0.2       ]],\n",
              "\n",
              "        [[0.36078431, 0.30588235, 0.25098039],\n",
              "         [0.23529412, 0.20392157, 0.2       ],\n",
              "         [0.23921569, 0.22745098, 0.2       ],\n",
              "         ...,\n",
              "         [0.23529412, 0.24705882, 0.19607843],\n",
              "         [0.25098039, 0.25490196, 0.20392157],\n",
              "         [0.28627451, 0.26666667, 0.19607843]]],\n",
              "\n",
              "\n",
              "       [[[0.25490196, 0.26666667, 0.19607843],\n",
              "         [0.2745098 , 0.31764706, 0.25098039],\n",
              "         [0.18823529, 0.25098039, 0.18039216],\n",
              "         ...,\n",
              "         [0.2       , 0.2627451 , 0.16078431],\n",
              "         [0.21176471, 0.29803922, 0.20784314],\n",
              "         [0.2627451 , 0.34117647, 0.25882353]],\n",
              "\n",
              "        [[0.27058824, 0.31372549, 0.22745098],\n",
              "         [0.30980392, 0.4       , 0.31764706],\n",
              "         [0.23529412, 0.29019608, 0.22352941],\n",
              "         ...,\n",
              "         [0.21176471, 0.25882353, 0.17254902],\n",
              "         [0.25490196, 0.35294118, 0.27058824],\n",
              "         [0.23921569, 0.31764706, 0.25882353]],\n",
              "\n",
              "        [[0.28627451, 0.37254902, 0.28235294],\n",
              "         [0.32941176, 0.42745098, 0.34117647],\n",
              "         [0.28235294, 0.34509804, 0.2745098 ],\n",
              "         ...,\n",
              "         [0.30588235, 0.38431373, 0.29411765],\n",
              "         [0.28627451, 0.38431373, 0.30196078],\n",
              "         [0.18823529, 0.23137255, 0.2       ]],\n",
              "\n",
              "        ...,\n",
              "\n",
              "        [[0.37254902, 0.49803922, 0.36078431],\n",
              "         [0.35686275, 0.48235294, 0.3372549 ],\n",
              "         [0.22352941, 0.30980392, 0.17647059],\n",
              "         ...,\n",
              "         [0.56470588, 0.6745098 , 0.42352941],\n",
              "         [0.66666667, 0.78823529, 0.5254902 ],\n",
              "         [0.47843137, 0.56078431, 0.38431373]],\n",
              "\n",
              "        [[0.36862745, 0.49019608, 0.32156863],\n",
              "         [0.29411765, 0.40784314, 0.27843137],\n",
              "         [0.1254902 , 0.20392157, 0.09411765],\n",
              "         ...,\n",
              "         [0.56078431, 0.70980392, 0.45490196],\n",
              "         [0.60392157, 0.7372549 , 0.48235294],\n",
              "         [0.41568627, 0.50588235, 0.34901961]],\n",
              "\n",
              "        [[0.30588235, 0.4       , 0.25490196],\n",
              "         [0.1372549 , 0.2       , 0.10588235],\n",
              "         [0.09411765, 0.15686275, 0.06666667],\n",
              "         ...,\n",
              "         [0.56078431, 0.70196078, 0.53333333],\n",
              "         [0.60392157, 0.7254902 , 0.57254902],\n",
              "         [0.50196078, 0.61176471, 0.45882353]]]])"
            ]
          },
          "metadata": {},
          "execution_count": 23
        }
      ]
    },
    {
      "cell_type": "code",
      "source": [
        "y_classes = [np.argmax(element) for element in y_pred]\n",
        "y_classes[:5]"
      ],
      "metadata": {
        "colab": {
          "base_uri": "https://localhost:8080/"
        },
        "id": "UaL_bwPAIt_e",
        "outputId": "f43feee5-1ecd-449f-82e1-c4ac6426ff4c"
      },
      "execution_count": 24,
      "outputs": [
        {
          "output_type": "execute_result",
          "data": {
            "text/plain": [
              "[3, 8, 8, 0, 6]"
            ]
          },
          "metadata": {},
          "execution_count": 24
        }
      ]
    },
    {
      "cell_type": "code",
      "source": [
        "classes = [\"airplane\",\"automobile\",\"bird\",\"cat\",\"deer\",\"dog\",\"frog\",\"horse\",\"ship\",\"truck\"]\n",
        "\n",
        "plt.imshow(x_test[1])"
      ],
      "metadata": {
        "colab": {
          "base_uri": "https://localhost:8080/",
          "height": 283
        },
        "id": "733SRhWjJGF-",
        "outputId": "1824b27e-9958-49e2-d570-b11c6589df85"
      },
      "execution_count": 28,
      "outputs": [
        {
          "output_type": "execute_result",
          "data": {
            "text/plain": [
              "<matplotlib.image.AxesImage at 0x7f5f2ec4ef70>"
            ]
          },
          "metadata": {},
          "execution_count": 28
        },
        {
          "output_type": "display_data",
          "data": {
            "text/plain": [
              "<Figure size 432x288 with 1 Axes>"
            ],
            "image/png": "[encoded data removed]"
          },
          "metadata": {
            "needs_background": "light"
          }
        }
      ]
    },
    {
      "cell_type": "code",
      "source": [
        "classes[y_classes[1]]"
      ],
      "metadata": {
        "colab": {
          "base_uri": "https://localhost:8080/",
          "height": 37
        },
        "id": "H_fZAEQ5KJE5",
        "outputId": "6a141223-35af-4262-c27d-54f5ead43ed5"
      },
      "execution_count": 27,
      "outputs": [
        {
          "output_type": "execute_result",
          "data": {
            "text/plain": [
              "'ship'"
            ],
            "application/vnd.google.colaboratory.intrinsic+json": {
              "type": "string"
            }
          },
          "metadata": {},
          "execution_count": 27
        }
      ]
    },
    {
      "cell_type": "code",
      "source": [],
      "metadata": {
        "id": "Hq8f9N45KJHA"
      },
      "execution_count": null,
      "outputs": []
    },
    {
      "cell_type": "markdown",
      "source": [
        ">>***MNIST data classsification using CNN***\n",
        "\n",
        "---\n",
        "\n",
        "\n",
        "\n",
        "\n",
        "\n",
        "\n"
      ],
      "metadata": {
        "id": "SImzyDRRPD_B"
      }
    },
    {
      "cell_type": "code",
      "source": [
        "(x_train,y_train),(x_test,y_test)=datasets.mnist.load_data()"
      ],
      "metadata": {
        "colab": {
          "base_uri": "https://localhost:8080/"
        },
        "id": "S4vW_adnJGH2",
        "outputId": "0c49207d-0c4b-4c80-b91b-9ade2ef3c9f0"
      },
      "execution_count": 32,
      "outputs": [
        {
          "output_type": "stream",
          "name": "stdout",
          "text": [
            "Downloading data from https://storage.googleapis.com/tensorflow/tf-keras-datasets/mnist.npz\n",
            "11490434/11490434 [==============================] - 0s 0us/step\n"
          ]
        }
      ]
    },
    {
      "cell_type": "code",
      "source": [
        "x_train.shape"
      ],
      "metadata": {
        "colab": {
          "base_uri": "https://localhost:8080/"
        },
        "id": "jkMHmtfSP62E",
        "outputId": "86bf2f7a-7104-4410-ea88-21c91a116040"
      },
      "execution_count": 33,
      "outputs": [
        {
          "output_type": "execute_result",
          "data": {
            "text/plain": [
              "(60000, 28, 28)"
            ]
          },
          "metadata": {},
          "execution_count": 33
        }
      ]
    },
    {
      "cell_type": "code",
      "source": [
        "y_train.shape"
      ],
      "metadata": {
        "colab": {
          "base_uri": "https://localhost:8080/"
        },
        "id": "j7mmtTJnP64r",
        "outputId": "ad92411a-9ce2-49ad-b955-3713f60d555b"
      },
      "execution_count": 34,
      "outputs": [
        {
          "output_type": "execute_result",
          "data": {
            "text/plain": [
              "(60000,)"
            ]
          },
          "metadata": {},
          "execution_count": 34
        }
      ]
    },
    {
      "cell_type": "code",
      "source": [
        "y_train[:5]"
      ],
      "metadata": {
        "colab": {
          "base_uri": "https://localhost:8080/"
        },
        "id": "1fzjthkZP67g",
        "outputId": "670547c1-6fcd-4d7d-d353-a4c9af762355"
      },
      "execution_count": 35,
      "outputs": [
        {
          "output_type": "execute_result",
          "data": {
            "text/plain": [
              "array([5, 0, 4, 1, 9], dtype=uint8)"
            ]
          },
          "metadata": {},
          "execution_count": 35
        }
      ]
    },
    {
      "cell_type": "code",
      "source": [
        "plt.imshow(x_train[0])"
      ],
      "metadata": {
        "colab": {
          "base_uri": "https://localhost:8080/",
          "height": 282
        },
        "id": "gmTPchlmP693",
        "outputId": "43b4c98d-72f3-4ab6-d947-4e27a8f93268"
      },
      "execution_count": 37,
      "outputs": [
        {
          "output_type": "execute_result",
          "data": {
            "text/plain": [
              "<matplotlib.image.AxesImage at 0x7f5f2ebae340>"
            ]
          },
          "metadata": {},
          "execution_count": 37
        },
        {
          "output_type": "display_data",
          "data": {
            "text/plain": [
              "<Figure size 432x288 with 1 Axes>"
            ],
            "image/png": "[encoded data removed]"
          },
          "metadata": {
            "needs_background": "light"
          }
        }
      ]
    },
    {
      "cell_type": "code",
      "source": [],
      "metadata": {
        "id": "7L3JuB9ZQMdA"
      },
      "execution_count": null,
      "outputs": []
    },
    {
      "cell_type": "code",
      "source": [
        "y_train[0]"
      ],
      "metadata": {
        "colab": {
          "base_uri": "https://localhost:8080/"
        },
        "id": "W-FCl4qXQMfU",
        "outputId": "37707c19-9027-40b6-f683-1ac238c3cf9e"
      },
      "execution_count": 38,
      "outputs": [
        {
          "output_type": "execute_result",
          "data": {
            "text/plain": [
              "5"
            ]
          },
          "metadata": {},
          "execution_count": 38
        }
      ]
    },
    {
      "cell_type": "markdown",
      "source": [
        "ANN model"
      ],
      "metadata": {
        "id": "s2GRdSjsQVrc"
      }
    },
    {
      "cell_type": "code",
      "source": [
        "x_train=x_train/255\n",
        "x_test=x_test/255"
      ],
      "metadata": {
        "id": "74Z5OAG0QT5C"
      },
      "execution_count": 39,
      "outputs": []
    },
    {
      "cell_type": "code",
      "source": [
        "cnn = models.Sequential([\n",
        "    layers.Conv2D(filters=38, kernel_size=(3,3),activation='relu',input_shape= (28,28,1)),\n",
        "    layers.MaxPooling2D((2,2)),\n",
        "\n",
        "    layers.Flatten(),\n",
        "    layers.Dense(100, activation ='relu'),\n",
        "    layers.Dense(10,activation='softmax')\n",
        "])\n",
        "\n",
        "cnn.compile(\n",
        "    optimizer = 'adam',\n",
        "    loss = 'sparse_categorical_crossentropy',\n",
        "    metrics=['accuracy']\n",
        ")\n",
        "\n"
      ],
      "metadata": {
        "id": "qmy58C2pQT7d"
      },
      "execution_count": 56,
      "outputs": []
    },
    {
      "cell_type": "code",
      "source": [
        "cnn.fit(x_train,y_train,epochs=5)"
      ],
      "metadata": {
        "colab": {
          "base_uri": "https://localhost:8080/"
        },
        "id": "Ovv7nhR-QT-I",
        "outputId": "da156bad-1c64-479f-8d6a-faef1fd67d40"
      },
      "execution_count": 57,
      "outputs": [
        {
          "output_type": "stream",
          "name": "stdout",
          "text": [
            "Epoch 1/5\n",
            "1875/1875 [==============================] - 41s 22ms/step - loss: 0.1515 - accuracy: 0.9548\n",
            "Epoch 2/5\n",
            "1875/1875 [==============================] - 42s 22ms/step - loss: 0.0518 - accuracy: 0.9843\n",
            "Epoch 3/5\n",
            "1875/1875 [==============================] - 40s 22ms/step - loss: 0.0335 - accuracy: 0.9893\n",
            "Epoch 4/5\n",
            "1875/1875 [==============================] - 41s 22ms/step - loss: 0.0226 - accuracy: 0.9925\n",
            "Epoch 5/5\n",
            "1875/1875 [==============================] - 40s 21ms/step - loss: 0.0159 - accuracy: 0.9950\n"
          ]
        },
        {
          "output_type": "execute_result",
          "data": {
            "text/plain": [
              "<keras.callbacks.History at 0x7f5f2964fc40>"
            ]
          },
          "metadata": {},
          "execution_count": 57
        }
      ]
    },
    {
      "cell_type": "code",
      "source": [
        "cnn.evaluate(x_test,y_test)"
      ],
      "metadata": {
        "colab": {
          "base_uri": "https://localhost:8080/"
        },
        "id": "_TlNK3h1QUBA",
        "outputId": "74847d92-805e-4104-d5e8-1bc7fc86c4ad"
      },
      "execution_count": 58,
      "outputs": [
        {
          "output_type": "stream",
          "name": "stdout",
          "text": [
            "313/313 [==============================] - 3s 9ms/step - loss: 0.0469 - accuracy: 0.9862\n"
          ]
        },
        {
          "output_type": "execute_result",
          "data": {
            "text/plain": [
              "[0.04691321775317192, 0.9861999750137329]"
            ]
          },
          "metadata": {},
          "execution_count": 58
        }
      ]
    },
    {
      "cell_type": "code",
      "source": [
        "y_pred=cnn.predict(x_test)"
      ],
      "metadata": {
        "colab": {
          "base_uri": "https://localhost:8080/"
        },
        "id": "mimnTd43UwBi",
        "outputId": "7d75fc7c-2f4d-4450-ccf0-15dd96e4cd1c"
      },
      "execution_count": 67,
      "outputs": [
        {
          "output_type": "stream",
          "name": "stdout",
          "text": [
            "313/313 [==============================] - 3s 9ms/step\n"
          ]
        }
      ]
    },
    {
      "cell_type": "code",
      "source": [
        "y_predict= [np.argmax(element) for element in  y_pred]"
      ],
      "metadata": {
        "id": "sE4eEgiJUwEE"
      },
      "execution_count": 68,
      "outputs": []
    },
    {
      "cell_type": "code",
      "source": [
        "y_predict[:5]"
      ],
      "metadata": {
        "colab": {
          "base_uri": "https://localhost:8080/"
        },
        "id": "ssADmCSAWEL2",
        "outputId": "a64cff67-62ec-4941-b594-b822eab62f13"
      },
      "execution_count": 69,
      "outputs": [
        {
          "output_type": "execute_result",
          "data": {
            "text/plain": [
              "[7, 2, 1, 0, 4]"
            ]
          },
          "metadata": {},
          "execution_count": 69
        }
      ]
    },
    {
      "cell_type": "code",
      "source": [
        "plt.imshow(x_test[0])"
      ],
      "metadata": {
        "colab": {
          "base_uri": "https://localhost:8080/",
          "height": 282
        },
        "id": "PWnUIfJIWEVL",
        "outputId": "f2cfb124-46f3-4057-d8b9-f10cf87d1496"
      },
      "execution_count": 75,
      "outputs": [
        {
          "output_type": "execute_result",
          "data": {
            "text/plain": [
              "<matplotlib.image.AxesImage at 0x7f5f29460d90>"
            ]
          },
          "metadata": {},
          "execution_count": 75
        },
        {
          "output_type": "display_data",
          "data": {
            "text/plain": [
              "<Figure size 432x288 with 1 Axes>"
            ],
            "image/png": "[encoded data removed]"
          },
          "metadata": {
            "needs_background": "light"
          }
        }
      ]
    }
  ]
}